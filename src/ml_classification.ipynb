{
 "cells": [
  {
   "cell_type": "markdown",
   "metadata": {},
   "source": [
    "# Predicting the winner of a Hive game using Classfication"
   ]
  },
  {
   "cell_type": "code",
   "execution_count": 20,
   "metadata": {},
   "outputs": [],
   "source": [
    "import pandas as pd\n",
    "import numpy as np"
   ]
  },
  {
   "cell_type": "markdown",
   "metadata": {},
   "source": [
    "## 1. Data pre-processing function"
   ]
  },
  {
   "cell_type": "code",
   "execution_count": 2,
   "metadata": {},
   "outputs": [],
   "source": [
    "pieces_dict = {\n",
    "    #white pieces\n",
    "    'wQ': 1,\n",
    "    'wA1': 2, 'wA2': 2, 'wA3': 2, \n",
    "    'wG1': 3, 'wG2': 3, 'wG3': 3,\n",
    "    'wB1': 4, 'wB2': 4, \n",
    "    'wS1': 5, 'wS2': 5,\n",
    "    'wM': 6,\n",
    "    'wL': 7,\n",
    "    'wP': 8,\n",
    "    #black pieces\n",
    "    'bQ': -1,\n",
    "    'bA1': -2, 'bA2': -2, 'bA3': -2,\n",
    "    'bG1': -3, 'bG2': -3, 'bG3': -3,\n",
    "    'bB1': -4, 'bB2': -4,\n",
    "    'bS1': -5, 'bS2': -5,\n",
    "    'bM': -6,\n",
    "    'bL': -7,\n",
    "    'bP': -8\n",
    "}\n",
    "\n",
    "color_player_dict = {\n",
    "    'White': 1,\n",
    "    'Black': -1\n",
    "}\n",
    "\n",
    "def df_preprocessing(df):\n",
    "\n",
    "    # Replace all NaN values with 0\n",
    "    df.fillna(0, inplace=True)\n",
    "\n",
    "    # Use a MinMaxScaler to scale number_of_turn \n",
    "    from sklearn.preprocessing import MinMaxScaler\n",
    "    scaler = MinMaxScaler()\n",
    "    df['number_of_turn'] = scaler.fit_transform(df[['number_of_turn']])\n",
    "\n",
    "    # Encoding the neighbor cols\n",
    "    cols = list(df.columns)\n",
    "    neighbor_cols = [col for col in cols if 'neighbor' in col]\n",
    "    for col in neighbor_cols:\n",
    "        df[col] = df[col].replace(pieces_dict)\n",
    "\n",
    "    # Encoding the player cols\n",
    "    color_player_cols = ['last_move_played_by', 'current_player_turn', 'result']\n",
    "    for col in color_player_cols:\n",
    "        df[col] = df[col].replace(color_player_dict)\n",
    "\n",
    "    return df\n",
    "\n"
   ]
  },
  {
   "cell_type": "markdown",
   "metadata": {},
   "source": [
    "## 2. Collect data of different matches"
   ]
  },
  {
   "cell_type": "code",
   "execution_count": 4,
   "metadata": {},
   "outputs": [
    {
     "name": "stderr",
     "output_type": "stream",
     "text": [
      "/tmp/ipykernel_587124/153078927.py:41: FutureWarning: Downcasting behavior in `replace` is deprecated and will be removed in a future version. To retain the old behavior, explicitly call `result.infer_objects(copy=False)`. To opt-in to the future behavior, set `pd.set_option('future.no_silent_downcasting', True)`\n",
      "  df[col] = df[col].replace(pieces_dict)\n",
      "/tmp/ipykernel_587124/153078927.py:46: FutureWarning: Downcasting behavior in `replace` is deprecated and will be removed in a future version. To retain the old behavior, explicitly call `result.infer_objects(copy=False)`. To opt-in to the future behavior, set `pd.set_option('future.no_silent_downcasting', True)`\n",
      "  df[col] = df[col].replace(color_player_dict)\n",
      "/tmp/ipykernel_587124/153078927.py:41: FutureWarning: Downcasting behavior in `replace` is deprecated and will be removed in a future version. To retain the old behavior, explicitly call `result.infer_objects(copy=False)`. To opt-in to the future behavior, set `pd.set_option('future.no_silent_downcasting', True)`\n",
      "  df[col] = df[col].replace(pieces_dict)\n",
      "/tmp/ipykernel_587124/153078927.py:46: FutureWarning: Downcasting behavior in `replace` is deprecated and will be removed in a future version. To retain the old behavior, explicitly call `result.infer_objects(copy=False)`. To opt-in to the future behavior, set `pd.set_option('future.no_silent_downcasting', True)`\n",
      "  df[col] = df[col].replace(color_player_dict)\n",
      "/tmp/ipykernel_587124/153078927.py:41: FutureWarning: Downcasting behavior in `replace` is deprecated and will be removed in a future version. To retain the old behavior, explicitly call `result.infer_objects(copy=False)`. To opt-in to the future behavior, set `pd.set_option('future.no_silent_downcasting', True)`\n",
      "  df[col] = df[col].replace(pieces_dict)\n",
      "/tmp/ipykernel_587124/153078927.py:46: FutureWarning: Downcasting behavior in `replace` is deprecated and will be removed in a future version. To retain the old behavior, explicitly call `result.infer_objects(copy=False)`. To opt-in to the future behavior, set `pd.set_option('future.no_silent_downcasting', True)`\n",
      "  df[col] = df[col].replace(color_player_dict)\n",
      "/tmp/ipykernel_587124/153078927.py:41: FutureWarning: Downcasting behavior in `replace` is deprecated and will be removed in a future version. To retain the old behavior, explicitly call `result.infer_objects(copy=False)`. To opt-in to the future behavior, set `pd.set_option('future.no_silent_downcasting', True)`\n",
      "  df[col] = df[col].replace(pieces_dict)\n",
      "/tmp/ipykernel_587124/153078927.py:46: FutureWarning: Downcasting behavior in `replace` is deprecated and will be removed in a future version. To retain the old behavior, explicitly call `result.infer_objects(copy=False)`. To opt-in to the future behavior, set `pd.set_option('future.no_silent_downcasting', True)`\n",
      "  df[col] = df[col].replace(color_player_dict)\n",
      "/tmp/ipykernel_587124/153078927.py:41: FutureWarning: Downcasting behavior in `replace` is deprecated and will be removed in a future version. To retain the old behavior, explicitly call `result.infer_objects(copy=False)`. To opt-in to the future behavior, set `pd.set_option('future.no_silent_downcasting', True)`\n",
      "  df[col] = df[col].replace(pieces_dict)\n",
      "/tmp/ipykernel_587124/153078927.py:46: FutureWarning: Downcasting behavior in `replace` is deprecated and will be removed in a future version. To retain the old behavior, explicitly call `result.infer_objects(copy=False)`. To opt-in to the future behavior, set `pd.set_option('future.no_silent_downcasting', True)`\n",
      "  df[col] = df[col].replace(color_player_dict)\n",
      "/tmp/ipykernel_587124/153078927.py:41: FutureWarning: Downcasting behavior in `replace` is deprecated and will be removed in a future version. To retain the old behavior, explicitly call `result.infer_objects(copy=False)`. To opt-in to the future behavior, set `pd.set_option('future.no_silent_downcasting', True)`\n",
      "  df[col] = df[col].replace(pieces_dict)\n",
      "/tmp/ipykernel_587124/153078927.py:46: FutureWarning: Downcasting behavior in `replace` is deprecated and will be removed in a future version. To retain the old behavior, explicitly call `result.infer_objects(copy=False)`. To opt-in to the future behavior, set `pd.set_option('future.no_silent_downcasting', True)`\n",
      "  df[col] = df[col].replace(color_player_dict)\n",
      "/tmp/ipykernel_587124/153078927.py:41: FutureWarning: Downcasting behavior in `replace` is deprecated and will be removed in a future version. To retain the old behavior, explicitly call `result.infer_objects(copy=False)`. To opt-in to the future behavior, set `pd.set_option('future.no_silent_downcasting', True)`\n",
      "  df[col] = df[col].replace(pieces_dict)\n",
      "/tmp/ipykernel_587124/153078927.py:46: FutureWarning: Downcasting behavior in `replace` is deprecated and will be removed in a future version. To retain the old behavior, explicitly call `result.infer_objects(copy=False)`. To opt-in to the future behavior, set `pd.set_option('future.no_silent_downcasting', True)`\n",
      "  df[col] = df[col].replace(color_player_dict)\n",
      "/tmp/ipykernel_587124/153078927.py:41: FutureWarning: Downcasting behavior in `replace` is deprecated and will be removed in a future version. To retain the old behavior, explicitly call `result.infer_objects(copy=False)`. To opt-in to the future behavior, set `pd.set_option('future.no_silent_downcasting', True)`\n",
      "  df[col] = df[col].replace(pieces_dict)\n",
      "/tmp/ipykernel_587124/153078927.py:46: FutureWarning: Downcasting behavior in `replace` is deprecated and will be removed in a future version. To retain the old behavior, explicitly call `result.infer_objects(copy=False)`. To opt-in to the future behavior, set `pd.set_option('future.no_silent_downcasting', True)`\n",
      "  df[col] = df[col].replace(color_player_dict)\n",
      "/tmp/ipykernel_587124/153078927.py:41: FutureWarning: Downcasting behavior in `replace` is deprecated and will be removed in a future version. To retain the old behavior, explicitly call `result.infer_objects(copy=False)`. To opt-in to the future behavior, set `pd.set_option('future.no_silent_downcasting', True)`\n",
      "  df[col] = df[col].replace(pieces_dict)\n",
      "/tmp/ipykernel_587124/153078927.py:46: FutureWarning: Downcasting behavior in `replace` is deprecated and will be removed in a future version. To retain the old behavior, explicitly call `result.infer_objects(copy=False)`. To opt-in to the future behavior, set `pd.set_option('future.no_silent_downcasting', True)`\n",
      "  df[col] = df[col].replace(color_player_dict)\n",
      "/tmp/ipykernel_587124/153078927.py:41: FutureWarning: Downcasting behavior in `replace` is deprecated and will be removed in a future version. To retain the old behavior, explicitly call `result.infer_objects(copy=False)`. To opt-in to the future behavior, set `pd.set_option('future.no_silent_downcasting', True)`\n",
      "  df[col] = df[col].replace(pieces_dict)\n",
      "/tmp/ipykernel_587124/153078927.py:46: FutureWarning: Downcasting behavior in `replace` is deprecated and will be removed in a future version. To retain the old behavior, explicitly call `result.infer_objects(copy=False)`. To opt-in to the future behavior, set `pd.set_option('future.no_silent_downcasting', True)`\n",
      "  df[col] = df[col].replace(color_player_dict)\n",
      "/tmp/ipykernel_587124/153078927.py:41: FutureWarning: Downcasting behavior in `replace` is deprecated and will be removed in a future version. To retain the old behavior, explicitly call `result.infer_objects(copy=False)`. To opt-in to the future behavior, set `pd.set_option('future.no_silent_downcasting', True)`\n",
      "  df[col] = df[col].replace(pieces_dict)\n",
      "/tmp/ipykernel_587124/153078927.py:46: FutureWarning: Downcasting behavior in `replace` is deprecated and will be removed in a future version. To retain the old behavior, explicitly call `result.infer_objects(copy=False)`. To opt-in to the future behavior, set `pd.set_option('future.no_silent_downcasting', True)`\n",
      "  df[col] = df[col].replace(color_player_dict)\n",
      "/tmp/ipykernel_587124/153078927.py:41: FutureWarning: Downcasting behavior in `replace` is deprecated and will be removed in a future version. To retain the old behavior, explicitly call `result.infer_objects(copy=False)`. To opt-in to the future behavior, set `pd.set_option('future.no_silent_downcasting', True)`\n",
      "  df[col] = df[col].replace(pieces_dict)\n",
      "/tmp/ipykernel_587124/153078927.py:46: FutureWarning: Downcasting behavior in `replace` is deprecated and will be removed in a future version. To retain the old behavior, explicitly call `result.infer_objects(copy=False)`. To opt-in to the future behavior, set `pd.set_option('future.no_silent_downcasting', True)`\n",
      "  df[col] = df[col].replace(color_player_dict)\n",
      "/tmp/ipykernel_587124/153078927.py:41: FutureWarning: Downcasting behavior in `replace` is deprecated and will be removed in a future version. To retain the old behavior, explicitly call `result.infer_objects(copy=False)`. To opt-in to the future behavior, set `pd.set_option('future.no_silent_downcasting', True)`\n",
      "  df[col] = df[col].replace(pieces_dict)\n",
      "/tmp/ipykernel_587124/153078927.py:46: FutureWarning: Downcasting behavior in `replace` is deprecated and will be removed in a future version. To retain the old behavior, explicitly call `result.infer_objects(copy=False)`. To opt-in to the future behavior, set `pd.set_option('future.no_silent_downcasting', True)`\n",
      "  df[col] = df[col].replace(color_player_dict)\n",
      "/tmp/ipykernel_587124/153078927.py:41: FutureWarning: Downcasting behavior in `replace` is deprecated and will be removed in a future version. To retain the old behavior, explicitly call `result.infer_objects(copy=False)`. To opt-in to the future behavior, set `pd.set_option('future.no_silent_downcasting', True)`\n",
      "  df[col] = df[col].replace(pieces_dict)\n",
      "/tmp/ipykernel_587124/153078927.py:46: FutureWarning: Downcasting behavior in `replace` is deprecated and will be removed in a future version. To retain the old behavior, explicitly call `result.infer_objects(copy=False)`. To opt-in to the future behavior, set `pd.set_option('future.no_silent_downcasting', True)`\n",
      "  df[col] = df[col].replace(color_player_dict)\n",
      "/tmp/ipykernel_587124/153078927.py:41: FutureWarning: Downcasting behavior in `replace` is deprecated and will be removed in a future version. To retain the old behavior, explicitly call `result.infer_objects(copy=False)`. To opt-in to the future behavior, set `pd.set_option('future.no_silent_downcasting', True)`\n",
      "  df[col] = df[col].replace(pieces_dict)\n",
      "/tmp/ipykernel_587124/153078927.py:46: FutureWarning: Downcasting behavior in `replace` is deprecated and will be removed in a future version. To retain the old behavior, explicitly call `result.infer_objects(copy=False)`. To opt-in to the future behavior, set `pd.set_option('future.no_silent_downcasting', True)`\n",
      "  df[col] = df[col].replace(color_player_dict)\n",
      "/tmp/ipykernel_587124/153078927.py:41: FutureWarning: Downcasting behavior in `replace` is deprecated and will be removed in a future version. To retain the old behavior, explicitly call `result.infer_objects(copy=False)`. To opt-in to the future behavior, set `pd.set_option('future.no_silent_downcasting', True)`\n",
      "  df[col] = df[col].replace(pieces_dict)\n",
      "/tmp/ipykernel_587124/153078927.py:46: FutureWarning: Downcasting behavior in `replace` is deprecated and will be removed in a future version. To retain the old behavior, explicitly call `result.infer_objects(copy=False)`. To opt-in to the future behavior, set `pd.set_option('future.no_silent_downcasting', True)`\n",
      "  df[col] = df[col].replace(color_player_dict)\n",
      "/tmp/ipykernel_587124/153078927.py:41: FutureWarning: Downcasting behavior in `replace` is deprecated and will be removed in a future version. To retain the old behavior, explicitly call `result.infer_objects(copy=False)`. To opt-in to the future behavior, set `pd.set_option('future.no_silent_downcasting', True)`\n",
      "  df[col] = df[col].replace(pieces_dict)\n",
      "/tmp/ipykernel_587124/153078927.py:46: FutureWarning: Downcasting behavior in `replace` is deprecated and will be removed in a future version. To retain the old behavior, explicitly call `result.infer_objects(copy=False)`. To opt-in to the future behavior, set `pd.set_option('future.no_silent_downcasting', True)`\n",
      "  df[col] = df[col].replace(color_player_dict)\n",
      "/tmp/ipykernel_587124/153078927.py:41: FutureWarning: Downcasting behavior in `replace` is deprecated and will be removed in a future version. To retain the old behavior, explicitly call `result.infer_objects(copy=False)`. To opt-in to the future behavior, set `pd.set_option('future.no_silent_downcasting', True)`\n",
      "  df[col] = df[col].replace(pieces_dict)\n",
      "/tmp/ipykernel_587124/153078927.py:46: FutureWarning: Downcasting behavior in `replace` is deprecated and will be removed in a future version. To retain the old behavior, explicitly call `result.infer_objects(copy=False)`. To opt-in to the future behavior, set `pd.set_option('future.no_silent_downcasting', True)`\n",
      "  df[col] = df[col].replace(color_player_dict)\n",
      "/tmp/ipykernel_587124/153078927.py:41: FutureWarning: Downcasting behavior in `replace` is deprecated and will be removed in a future version. To retain the old behavior, explicitly call `result.infer_objects(copy=False)`. To opt-in to the future behavior, set `pd.set_option('future.no_silent_downcasting', True)`\n",
      "  df[col] = df[col].replace(pieces_dict)\n",
      "/tmp/ipykernel_587124/153078927.py:46: FutureWarning: Downcasting behavior in `replace` is deprecated and will be removed in a future version. To retain the old behavior, explicitly call `result.infer_objects(copy=False)`. To opt-in to the future behavior, set `pd.set_option('future.no_silent_downcasting', True)`\n",
      "  df[col] = df[col].replace(color_player_dict)\n"
     ]
    },
    {
     "data": {
      "text/plain": [
       "(104080, 202)"
      ]
     },
     "execution_count": 4,
     "metadata": {},
     "output_type": "execute_result"
    }
   ],
   "source": [
    "folder = '../data/'\n",
    "\n",
    "# Cycling in the folder data to create a unique dataframe\n",
    "import os\n",
    "for file in os.listdir(folder):\n",
    "    url = folder + file\n",
    "    if not os.path.isdir(url):\n",
    "        df_match = pd.read_csv(url)\n",
    "        df_match = df_preprocessing(df_match)\n",
    "        if 'df' in locals():\n",
    "            df = pd.concat([df, df_match])\n",
    "        else:\n",
    "            df = df_match\n",
    "\n",
    "df.shape"
   ]
  },
  {
   "cell_type": "markdown",
   "metadata": {},
   "source": [
    "## 3. Splitting data for the classification"
   ]
  },
  {
   "cell_type": "code",
   "execution_count": 5,
   "metadata": {},
   "outputs": [],
   "source": [
    "target = 'result'\n",
    "random_state = 33\n",
    "train_size = 0.5"
   ]
  },
  {
   "cell_type": "code",
   "execution_count": 6,
   "metadata": {},
   "outputs": [],
   "source": [
    "X = df.drop(columns=[target])\n",
    "y = df[target]"
   ]
  },
  {
   "cell_type": "code",
   "execution_count": 7,
   "metadata": {},
   "outputs": [],
   "source": [
    "from sklearn.model_selection import train_test_split\n",
    "Xtrain , Xtest, ytrain , ytest = train_test_split(X, y, train_size=train_size, random_state=random_state)"
   ]
  },
  {
   "cell_type": "markdown",
   "metadata": {},
   "source": [
    "## 4. Random Forest Classifier"
   ]
  },
  {
   "cell_type": "code",
   "execution_count": 8,
   "metadata": {},
   "outputs": [],
   "source": [
    "# Using a RandomForestClassifier\n",
    "from sklearn.ensemble import RandomForestClassifier\n",
    "clf = RandomForestClassifier(random_state=random_state)\n",
    "clf.fit(Xtrain, ytrain)\n",
    "ypred = clf.predict(Xtest)"
   ]
  },
  {
   "cell_type": "code",
   "execution_count": 9,
   "metadata": {},
   "outputs": [
    {
     "name": "stdout",
     "output_type": "stream",
     "text": [
      "Accuracy: 0.9996156802459646\n"
     ]
    }
   ],
   "source": [
    "# Showing the accuracy\n",
    "from sklearn.metrics import accuracy_score\n",
    "accuracy = accuracy_score(ytest, ypred)\n",
    "print(f'Accuracy: {accuracy}')"
   ]
  },
  {
   "cell_type": "code",
   "execution_count": 13,
   "metadata": {},
   "outputs": [
    {
     "name": "stdout",
     "output_type": "stream",
     "text": [
      "[[28545    14]\n",
      " [    6 23475]]\n"
     ]
    }
   ],
   "source": [
    "# Displaying the confusion matrix\n",
    "from sklearn.metrics import confusion_matrix, ConfusionMatrixDisplay\n",
    "cm = confusion_matrix(ytest, ypred)\n",
    "disp = ConfusionMatrixDisplay(confusion_matrix=cm, display_labels=clf.classes_)\n",
    "print(cm)"
   ]
  },
  {
   "cell_type": "markdown",
   "metadata": {},
   "source": [
    "## 5. Probabilistic Classifier"
   ]
  },
  {
   "cell_type": "code",
   "execution_count": 14,
   "metadata": {},
   "outputs": [],
   "source": [
    "# USe the predict_proba method to get the probability of each class\n",
    "ypred_proba = clf.predict_proba(Xtest)"
   ]
  },
  {
   "cell_type": "code",
   "execution_count": 15,
   "metadata": {},
   "outputs": [
    {
     "name": "stdout",
     "output_type": "stream",
     "text": [
      "[[0.07 0.93]\n",
      " [0.95 0.05]\n",
      " [0.   1.  ]\n",
      " [0.   1.  ]\n",
      " [0.97 0.03]]\n"
     ]
    }
   ],
   "source": [
    "# Printing a random sample of the probabilities\n",
    "print(ypred_proba[:5])"
   ]
  },
  {
   "cell_type": "code",
   "execution_count": 16,
   "metadata": {},
   "outputs": [
    {
     "name": "stdout",
     "output_type": "stream",
     "text": [
      "[-1  1]\n"
     ]
    }
   ],
   "source": [
    "# Printing the classes\n",
    "print(clf.classes_)"
   ]
  },
  {
   "cell_type": "code",
   "execution_count": 17,
   "metadata": {},
   "outputs": [
    {
     "name": "stdout",
     "output_type": "stream",
     "text": [
      "Predicted class: 1, Predicted probability: [0.07 0.93]\n",
      "Predicted class: -1, Predicted probability: [0.95 0.05]\n",
      "Predicted class: 1, Predicted probability: [0. 1.]\n",
      "Predicted class: 1, Predicted probability: [0. 1.]\n",
      "Predicted class: -1, Predicted probability: [0.97 0.03]\n"
     ]
    }
   ],
   "source": [
    "# Printing the predixted classes and the relative probabilities\n",
    "for i in range(5):\n",
    "    print(f'Predicted class: {ypred[i]}, Predicted probability: {ypred_proba[i]}')"
   ]
  },
  {
   "cell_type": "markdown",
   "metadata": {},
   "source": [
    "A possible evaluation function for a board state could be using these probabilities to determine how much is good a certain state.\n",
    "\n",
    "Suppose we are playing for the black (encoded as -1), and we have all the information about the actual board:\n",
    "1. we use this model to obatin the proabilities of the prediction \n",
    "- imagine to have obtained the following probabilities [x, y]\n",
    "- x is the probability of 'Black win'\n",
    "- y is the probability of 'White win'\n",
    "2. we use the MinMax algorithm to determine the best move\n",
    "- higher the x, better the move for the Black\n",
    "- higher the y, better the move for the White\n"
   ]
  },
  {
   "cell_type": "code",
   "execution_count": 18,
   "metadata": {},
   "outputs": [],
   "source": [
    "# Extraction of the model to a pickle file\n",
    "import pickle\n",
    "filename = '../model/model0.pkl'\n",
    "pickle.dump(clf, open(filename, 'wb'))\n"
   ]
  },
  {
   "cell_type": "code",
   "execution_count": 19,
   "metadata": {},
   "outputs": [
    {
     "data": {
      "text/plain": [
       "['number_of_turn',\n",
       " 'last_move_played_by',\n",
       " 'current_player_turn',\n",
       " 'wQ_moves',\n",
       " 'wS1_moves',\n",
       " 'wB1_moves',\n",
       " 'wG1_moves',\n",
       " 'wA1_moves',\n",
       " 'wS2_moves',\n",
       " 'wB2_moves',\n",
       " 'wG2_moves',\n",
       " 'wA2_moves',\n",
       " 'wG3_moves',\n",
       " 'wA3_moves',\n",
       " 'bQ_moves',\n",
       " 'bS1_moves',\n",
       " 'bB1_moves',\n",
       " 'bG1_moves',\n",
       " 'bA1_moves',\n",
       " 'bS2_moves',\n",
       " 'bB2_moves',\n",
       " 'bG2_moves',\n",
       " 'bA2_moves',\n",
       " 'bG3_moves',\n",
       " 'bA3_moves',\n",
       " 'wQ_RIGHT_neighbor',\n",
       " 'wQ_UP_RIGHT_neighbor',\n",
       " 'wQ_UP_LEFT_neighbor',\n",
       " 'wQ_LEFT_neighbor',\n",
       " 'wQ_DOWN_LEFT_neighbor',\n",
       " 'wQ_DOWN_RIGHT_neighbor',\n",
       " 'wQ_BELOW_neighbor',\n",
       " 'wQ_ABOVE_neighbor',\n",
       " 'wS1_RIGHT_neighbor',\n",
       " 'wS1_UP_RIGHT_neighbor',\n",
       " 'wS1_UP_LEFT_neighbor',\n",
       " 'wS1_LEFT_neighbor',\n",
       " 'wS1_DOWN_LEFT_neighbor',\n",
       " 'wS1_DOWN_RIGHT_neighbor',\n",
       " 'wS1_BELOW_neighbor',\n",
       " 'wS1_ABOVE_neighbor',\n",
       " 'wB1_RIGHT_neighbor',\n",
       " 'wB1_UP_RIGHT_neighbor',\n",
       " 'wB1_UP_LEFT_neighbor',\n",
       " 'wB1_LEFT_neighbor',\n",
       " 'wB1_DOWN_LEFT_neighbor',\n",
       " 'wB1_DOWN_RIGHT_neighbor',\n",
       " 'wB1_BELOW_neighbor',\n",
       " 'wB1_ABOVE_neighbor',\n",
       " 'wG1_RIGHT_neighbor',\n",
       " 'wG1_UP_RIGHT_neighbor',\n",
       " 'wG1_UP_LEFT_neighbor',\n",
       " 'wG1_LEFT_neighbor',\n",
       " 'wG1_DOWN_LEFT_neighbor',\n",
       " 'wG1_DOWN_RIGHT_neighbor',\n",
       " 'wG1_BELOW_neighbor',\n",
       " 'wG1_ABOVE_neighbor',\n",
       " 'wA1_RIGHT_neighbor',\n",
       " 'wA1_UP_RIGHT_neighbor',\n",
       " 'wA1_UP_LEFT_neighbor',\n",
       " 'wA1_LEFT_neighbor',\n",
       " 'wA1_DOWN_LEFT_neighbor',\n",
       " 'wA1_DOWN_RIGHT_neighbor',\n",
       " 'wA1_BELOW_neighbor',\n",
       " 'wA1_ABOVE_neighbor',\n",
       " 'wS2_RIGHT_neighbor',\n",
       " 'wS2_UP_RIGHT_neighbor',\n",
       " 'wS2_UP_LEFT_neighbor',\n",
       " 'wS2_LEFT_neighbor',\n",
       " 'wS2_DOWN_LEFT_neighbor',\n",
       " 'wS2_DOWN_RIGHT_neighbor',\n",
       " 'wS2_BELOW_neighbor',\n",
       " 'wS2_ABOVE_neighbor',\n",
       " 'wB2_RIGHT_neighbor',\n",
       " 'wB2_UP_RIGHT_neighbor',\n",
       " 'wB2_UP_LEFT_neighbor',\n",
       " 'wB2_LEFT_neighbor',\n",
       " 'wB2_DOWN_LEFT_neighbor',\n",
       " 'wB2_DOWN_RIGHT_neighbor',\n",
       " 'wB2_BELOW_neighbor',\n",
       " 'wB2_ABOVE_neighbor',\n",
       " 'wG2_RIGHT_neighbor',\n",
       " 'wG2_UP_RIGHT_neighbor',\n",
       " 'wG2_UP_LEFT_neighbor',\n",
       " 'wG2_LEFT_neighbor',\n",
       " 'wG2_DOWN_LEFT_neighbor',\n",
       " 'wG2_DOWN_RIGHT_neighbor',\n",
       " 'wG2_BELOW_neighbor',\n",
       " 'wG2_ABOVE_neighbor',\n",
       " 'wA2_RIGHT_neighbor',\n",
       " 'wA2_UP_RIGHT_neighbor',\n",
       " 'wA2_UP_LEFT_neighbor',\n",
       " 'wA2_LEFT_neighbor',\n",
       " 'wA2_DOWN_LEFT_neighbor',\n",
       " 'wA2_DOWN_RIGHT_neighbor',\n",
       " 'wA2_BELOW_neighbor',\n",
       " 'wA2_ABOVE_neighbor',\n",
       " 'wG3_RIGHT_neighbor',\n",
       " 'wG3_UP_RIGHT_neighbor',\n",
       " 'wG3_UP_LEFT_neighbor',\n",
       " 'wG3_LEFT_neighbor',\n",
       " 'wG3_DOWN_LEFT_neighbor',\n",
       " 'wG3_DOWN_RIGHT_neighbor',\n",
       " 'wG3_BELOW_neighbor',\n",
       " 'wG3_ABOVE_neighbor',\n",
       " 'wA3_RIGHT_neighbor',\n",
       " 'wA3_UP_RIGHT_neighbor',\n",
       " 'wA3_UP_LEFT_neighbor',\n",
       " 'wA3_LEFT_neighbor',\n",
       " 'wA3_DOWN_LEFT_neighbor',\n",
       " 'wA3_DOWN_RIGHT_neighbor',\n",
       " 'wA3_BELOW_neighbor',\n",
       " 'wA3_ABOVE_neighbor',\n",
       " 'bQ_RIGHT_neighbor',\n",
       " 'bQ_UP_RIGHT_neighbor',\n",
       " 'bQ_UP_LEFT_neighbor',\n",
       " 'bQ_LEFT_neighbor',\n",
       " 'bQ_DOWN_LEFT_neighbor',\n",
       " 'bQ_DOWN_RIGHT_neighbor',\n",
       " 'bQ_BELOW_neighbor',\n",
       " 'bQ_ABOVE_neighbor',\n",
       " 'bS1_RIGHT_neighbor',\n",
       " 'bS1_UP_RIGHT_neighbor',\n",
       " 'bS1_UP_LEFT_neighbor',\n",
       " 'bS1_LEFT_neighbor',\n",
       " 'bS1_DOWN_LEFT_neighbor',\n",
       " 'bS1_DOWN_RIGHT_neighbor',\n",
       " 'bS1_BELOW_neighbor',\n",
       " 'bS1_ABOVE_neighbor',\n",
       " 'bB1_RIGHT_neighbor',\n",
       " 'bB1_UP_RIGHT_neighbor',\n",
       " 'bB1_UP_LEFT_neighbor',\n",
       " 'bB1_LEFT_neighbor',\n",
       " 'bB1_DOWN_LEFT_neighbor',\n",
       " 'bB1_DOWN_RIGHT_neighbor',\n",
       " 'bB1_BELOW_neighbor',\n",
       " 'bB1_ABOVE_neighbor',\n",
       " 'bG1_RIGHT_neighbor',\n",
       " 'bG1_UP_RIGHT_neighbor',\n",
       " 'bG1_UP_LEFT_neighbor',\n",
       " 'bG1_LEFT_neighbor',\n",
       " 'bG1_DOWN_LEFT_neighbor',\n",
       " 'bG1_DOWN_RIGHT_neighbor',\n",
       " 'bG1_BELOW_neighbor',\n",
       " 'bG1_ABOVE_neighbor',\n",
       " 'bA1_RIGHT_neighbor',\n",
       " 'bA1_UP_RIGHT_neighbor',\n",
       " 'bA1_UP_LEFT_neighbor',\n",
       " 'bA1_LEFT_neighbor',\n",
       " 'bA1_DOWN_LEFT_neighbor',\n",
       " 'bA1_DOWN_RIGHT_neighbor',\n",
       " 'bA1_BELOW_neighbor',\n",
       " 'bA1_ABOVE_neighbor',\n",
       " 'bS2_RIGHT_neighbor',\n",
       " 'bS2_UP_RIGHT_neighbor',\n",
       " 'bS2_UP_LEFT_neighbor',\n",
       " 'bS2_LEFT_neighbor',\n",
       " 'bS2_DOWN_LEFT_neighbor',\n",
       " 'bS2_DOWN_RIGHT_neighbor',\n",
       " 'bS2_BELOW_neighbor',\n",
       " 'bS2_ABOVE_neighbor',\n",
       " 'bB2_RIGHT_neighbor',\n",
       " 'bB2_UP_RIGHT_neighbor',\n",
       " 'bB2_UP_LEFT_neighbor',\n",
       " 'bB2_LEFT_neighbor',\n",
       " 'bB2_DOWN_LEFT_neighbor',\n",
       " 'bB2_DOWN_RIGHT_neighbor',\n",
       " 'bB2_BELOW_neighbor',\n",
       " 'bB2_ABOVE_neighbor',\n",
       " 'bG2_RIGHT_neighbor',\n",
       " 'bG2_UP_RIGHT_neighbor',\n",
       " 'bG2_UP_LEFT_neighbor',\n",
       " 'bG2_LEFT_neighbor',\n",
       " 'bG2_DOWN_LEFT_neighbor',\n",
       " 'bG2_DOWN_RIGHT_neighbor',\n",
       " 'bG2_BELOW_neighbor',\n",
       " 'bG2_ABOVE_neighbor',\n",
       " 'bA2_RIGHT_neighbor',\n",
       " 'bA2_UP_RIGHT_neighbor',\n",
       " 'bA2_UP_LEFT_neighbor',\n",
       " 'bA2_LEFT_neighbor',\n",
       " 'bA2_DOWN_LEFT_neighbor',\n",
       " 'bA2_DOWN_RIGHT_neighbor',\n",
       " 'bA2_BELOW_neighbor',\n",
       " 'bA2_ABOVE_neighbor',\n",
       " 'bG3_RIGHT_neighbor',\n",
       " 'bG3_UP_RIGHT_neighbor',\n",
       " 'bG3_UP_LEFT_neighbor',\n",
       " 'bG3_LEFT_neighbor',\n",
       " 'bG3_DOWN_LEFT_neighbor',\n",
       " 'bG3_DOWN_RIGHT_neighbor',\n",
       " 'bG3_BELOW_neighbor',\n",
       " 'bG3_ABOVE_neighbor',\n",
       " 'bA3_RIGHT_neighbor',\n",
       " 'bA3_UP_RIGHT_neighbor',\n",
       " 'bA3_UP_LEFT_neighbor',\n",
       " 'bA3_LEFT_neighbor',\n",
       " 'bA3_DOWN_LEFT_neighbor',\n",
       " 'bA3_DOWN_RIGHT_neighbor',\n",
       " 'bA3_BELOW_neighbor',\n",
       " 'bA3_ABOVE_neighbor']"
      ]
     },
     "execution_count": 19,
     "metadata": {},
     "output_type": "execute_result"
    }
   ],
   "source": [
    "list(X.columns)"
   ]
  },
  {
   "cell_type": "code",
   "execution_count": null,
   "metadata": {},
   "outputs": [],
   "source": []
  }
 ],
 "metadata": {
  "kernelspec": {
   "display_name": "hivemind_env",
   "language": "python",
   "name": "python3"
  },
  "language_info": {
   "codemirror_mode": {
    "name": "ipython",
    "version": 3
   },
   "file_extension": ".py",
   "mimetype": "text/x-python",
   "name": "python",
   "nbconvert_exporter": "python",
   "pygments_lexer": "ipython3",
   "version": "3.12.7"
  }
 },
 "nbformat": 4,
 "nbformat_minor": 2
}
